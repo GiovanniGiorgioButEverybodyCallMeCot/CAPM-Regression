{
 "cells": [
  {
   "cell_type": "code",
   "execution_count": null,
   "metadata": {},
   "outputs": [],
   "source": [
    "#----------------------------------------------------------------------------------------------------------------#\n",
    "#:<->:<->:<->:<->:<->:<->:<->:<->:<->:<->:<->:<->:<->:<->:<->:<->:<->:<->:<->:<->:<->:<->:<->:<->:<->:<->:<->:<->#\n",
    "#                                                                                                                #\n",
    "# Regression & Time Series Models                                             ########   ########                #\n",
    "#                                                                            ##         ##                       #\n",
    "# Regression using CAPM model                                                ##   ####  ##                       #\n",
    "#                                                                            ##     ##  ##                       #\n",
    "# 30/10/2024                                                                  ########   ########                #\n",
    "#                                                                                                                #\n",
    "#:<->:<->:<->:<->:<->:<->:<->:<->:<->:<->:<->:<->:<->:<->:<->:<->:<->:<->:<->:<->:<->:<->:<->:<->:<->:<->:<->:<->#\n",
    "#----------------------------------------------------------------------------------------------------------------#"
   ]
  },
  {
   "cell_type": "markdown",
   "metadata": {},
   "source": [
    "Import required libraries"
   ]
  },
  {
   "cell_type": "code",
   "execution_count": null,
   "metadata": {},
   "outputs": [],
   "source": [
    "import pandas as pd \n",
    "import numpy as np\n",
    "import matplotlib.pyplot as plt"
   ]
  },
  {
   "cell_type": "markdown",
   "metadata": {},
   "source": [
    "### Assignment 1"
   ]
  },
  {
   "cell_type": "code",
   "execution_count": null,
   "metadata": {},
   "outputs": [],
   "source": [
    "# Set time range of 24 years\n",
    "t = pd.date_range(start='31/10/2000', end='31/10/2024', freq='ME')\n",
    "\n",
    "# Define column names for the equities' total return indices\n",
    "equity_TRI_columns = [\n",
    "    'JOHNSON & JOHNSON - TOT RETURN IND',\n",
    "    'BOSTON SCIENTIFIC - TOT RETURN IND',\n",
    "    'ELI LILLY - TOT RETURN IND',\n",
    "    'PFIZER - TOT RETURN IND', \n",
    "    'TELEFLEX - TOT RETURN IND',\n",
    "    'CIGNA - TOT RETURN IND',\n",
    "    'REVVITY - TOT RETURN IND',\n",
    "    'MEDTRONIC - TOT RETURN IND', \n",
    "    'LABCORP HOLDINGS - TOT RETURN IND',\n",
    "    'HUMANA - TOT RETURN IND'\n",
    "    ]\n",
    "\n",
    "equity_MV_columns = [\n",
    "    'JOHNSON & JOHNSON - MARKET VALUE',\n",
    "    'BOSTON SCIENTIFIC - MARKET VALUE',\n",
    "    'ELI LILLY - MARKET VALUE',\n",
    "    'PFIZER - MARKET VALUE', \n",
    "    'TELEFLEX - MARKET VALUE',\n",
    "    'CIGNA - MARKET VALUE',\n",
    "    'REVVITY - MARKET VALUE',\n",
    "    'MEDTRONIC - MARKET VALUE', \n",
    "    'LABCORP HOLDINGS - MARKET VALUE',\n",
    "    'HUMANA - MARKET VALUE'\n",
    "    ]"
   ]
  },
  {
   "cell_type": "code",
   "execution_count": null,
   "metadata": {},
   "outputs": [],
   "source": [
    "# Download risk free interest rates (skipping rows 1,2 because they are not actual market values, rather additional information)\n",
    "rF_yearly = pd.read_excel('INTEREST_RATE.xlsx', usecols=['US FEDERAL FUNDS RATE (MONTHLY AVERAGE) NADJ'], skiprows=[1, 2], header=0)\n",
    "\n",
    "# Verify there are no NaN values in the DataFrame\n",
    "assert not rF_yearly.isnull().values.any(), \"DataFrame contains NaN values\"\n",
    "\n",
    "# Adding a missing value for October 2024, required since other files contain this data. \n",
    "# Source: https://www.federalreserve.gov/releases/h15/\n",
    "rF_yearly.loc[len(rF_yearly)] = 4.92\n",
    "\n",
    "#calculation of the monthly rates\n",
    "rF = np.array(rF_yearly / 12)\n",
    "\n",
    "rF_yearly"
   ]
  },
  {
   "cell_type": "code",
   "execution_count": null,
   "metadata": {},
   "outputs": [],
   "source": [
    "# Download overall equity market index\n",
    "health_MKT = pd.read_excel('STOXX_HEALTH_PI.xlsx', usecols=['STOXX NTH AMER 600 HEALTH CARE E - PRICE INDEX'])\n",
    "\n",
    "# Verify there are no NaN values in the DataFrame\n",
    "assert not health_MKT.isnull().values.any(), \"DataFrame contains NaN values\"\n",
    "\n",
    "# Conversion in percentual montlhy variance\n",
    "rMKT = 100 * (np.log(health_MKT) - np.log(health_MKT.shift(1)))\n",
    "\n",
    "# Drop the first row (since log returns are computed as difference between consecutive data, first row will be NaN)\n",
    "# Calculation of excess returns (market return-riskfree)\n",
    "rMKT = np.array(rMKT[1:])\n",
    "eMKT = np.subtract(rMKT, rF[1:])\n",
    "\n",
    "eMKT\n",
    "\n"
   ]
  },
  {
   "cell_type": "code",
   "execution_count": null,
   "metadata": {},
   "outputs": [],
   "source": [
    "# Download market value of constituents\n",
    "mkt_value = pd.read_excel('MKT_VALUE.xlsx', usecols=equity_MV_columns, skiprows=[1, 2], header=0)\n",
    "\n",
    "# Verify there are no NaN values in the DataFrame\n",
    "assert not mkt_value.isnull().values.any(), \"DataFrame contains NaN values\"\n",
    "\n",
    "mkt_value"
   ]
  },
  {
   "cell_type": "code",
   "execution_count": null,
   "metadata": {},
   "outputs": [],
   "source": [
    "# Load all equities in a single DataFrame\n",
    "data = pd.read_excel('Stocks_Constituents.xlsx', usecols=equity_TRI_columns)\n",
    "\n",
    "# (Optional) Print the dataframe including all downloaded data\n",
    "# data"
   ]
  },
  {
   "cell_type": "markdown",
   "metadata": {},
   "source": [
    "### Assignment 2"
   ]
  },
  {
   "cell_type": "code",
   "execution_count": null,
   "metadata": {},
   "outputs": [],
   "source": [
    "# Calculate the log returns for all equities\n",
    "log_returns = 100 * (np.log(data) - np.log(data.shift(1)))\n",
    "\n",
    "# Drop the first row (since log returns are computed as difference between consecutive data, first row will be NaN)\n",
    "log_returns = log_returns.iloc[1:]\n",
    "\n",
    "# Verify there are no other NaN values in the DataFrame\n",
    "assert not log_returns.isnull().values.any(), \"DataFrame contains NaN values\"\n",
    "\n",
    "# (Optional) Print the dataframe including all downloaded data\n",
    "log_returns\n"
   ]
  }
 ],
 "metadata": {
  "kernelspec": {
   "display_name": "Python 3",
   "language": "python",
   "name": "python3"
  },
  "language_info": {
   "codemirror_mode": {
    "name": "ipython",
    "version": 3
   },
   "file_extension": ".py",
   "mimetype": "text/x-python",
   "name": "python",
   "nbconvert_exporter": "python",
   "pygments_lexer": "ipython3",
   "version": "3.12.2"
  }
 },
 "nbformat": 4,
 "nbformat_minor": 2
}
