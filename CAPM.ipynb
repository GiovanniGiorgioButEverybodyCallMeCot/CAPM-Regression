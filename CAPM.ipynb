{
 "cells": [
  {
   "cell_type": "markdown",
   "metadata": {},
   "source": [
    "### Setup"
   ]
  },
  {
   "cell_type": "code",
   "execution_count": null,
   "metadata": {},
   "outputs": [],
   "source": [
    "# Import required libraries \n",
    "\n",
    "import pandas as pd \n",
    "import numpy as np\n",
    "import matplotlib.pyplot as plt\n",
    "import statsmodels.api as sm"
   ]
  },
  {
   "cell_type": "code",
   "execution_count": null,
   "metadata": {},
   "outputs": [],
   "source": [
    "# Set time range of 24 years\n",
    "t = pd.date_range(start='31/10/2000', end='31/10/2024', freq='ME')\n",
    "\n",
    "# Define column names for the equities\n",
    "equity_columns = [\n",
    "    'JOHNSON & JOHNSON',\n",
    "    'BOSTON SCIENTIFIC',\n",
    "    'ELI LILLY',\n",
    "    'PFIZER', \n",
    "    'TELEFLEX',\n",
    "    'CIGNA',\n",
    "    'REVVITY',\n",
    "    'MEDTRONIC', \n",
    "    'LABCORP HOLDINGS',\n",
    "    'HUMANA'\n",
    "    ]\n",
    "    \n",
    "# Generate lists for total return indices and market value indices\n",
    "equity_TRI_columns = [f\"{name} - TOT RETURN IND\" for name in equity_columns]\n",
    "equity_MV_columns  = [f\"{name} - MARKET VALUE\"   for name in equity_columns]"
   ]
  },
  {
   "cell_type": "markdown",
   "metadata": {},
   "source": [
    "### Assignment 1"
   ]
  },
  {
   "cell_type": "code",
   "execution_count": null,
   "metadata": {},
   "outputs": [],
   "source": [
    "#-----------------------------------------------------------------------------------------------------------------------------------#\n",
    "# Interest rates\n",
    "\n",
    "# Download risk free interest rates (skipping rows 1,2 because they are not actual market values but additional information)\n",
    "rF_yearly = pd.read_excel('INTEREST_RATE.xlsx', usecols=['US FEDERAL FUNDS RATE (MONTHLY AVERAGE) NADJ'], skiprows=[1, 2], header=0)\n",
    "\n",
    "# Verify there are no NaN values in the DataFrame\n",
    "assert not rF_yearly.isnull().values.any(), \"DataFrame contains NaN values\"\n",
    "\n",
    "# Adding a missing value for October 2024, required since other files contain this data. \n",
    "# Source: https://www.federalreserve.gov/releases/h15/\n",
    "rF_yearly.loc[len(rF_yearly)] = 4.92\n",
    "\n",
    "# Compute monthly rates\n",
    "rF = np.array(rF_yearly / 12)\n",
    "\n",
    "#-----------------------------------------------------------------------------------------------------------------------------------#\n",
    "# Market indices\n",
    "\n",
    "# Download overall equity market index\n",
    "health_MKT = pd.read_excel('STOXX_HEALTH_PI.xlsx', usecols=['STOXX NTH AMER 600 HEALTH CARE E - PRICE INDEX'])\n",
    "\n",
    "# Verify there are no NaN values in the DataFrame\n",
    "assert not health_MKT.isnull().values.any(), \"DataFrame contains NaN values\"\n",
    "\n",
    "# Conversion in percentual montlhy variance\n",
    "rMKT = 100 * (np.log(health_MKT) - np.log(health_MKT.shift(1)))\n",
    "\n",
    "# Drop the first row (since log returns are computed as difference between consecutive data, first row will be NaN)\n",
    "# Calculation of Excess Market Returns from risk-free Market Returns\n",
    "rMKT = np.array(rMKT[1:])\n",
    "eMKT = np.subtract(rMKT, rF[1:])\n",
    "\n",
    "#-----------------------------------------------------------------------------------------------------------------------------------#\n",
    "# Market value of constituents\n",
    "\n",
    "# Download market value of constituents\n",
    "mkt_value = pd.read_excel('MKT_VALUE.xlsx', usecols=equity_MV_columns, skiprows=[1, 2], header=0)\n",
    "\n",
    "# Verify there are no NaN values in the DataFrame\n",
    "assert not mkt_value.isnull().values.any(), \"DataFrame contains NaN values\"\n",
    "\n",
    "#-----------------------------------------------------------------------------------------------------------------------------------#\n",
    "# Equities\n",
    "\n",
    "# Download equities\n",
    "data = pd.read_excel('Stocks_Constituents.xlsx', usecols=equity_TRI_columns)\n",
    "\n",
    "# Verify there are no NaN values in the DataFrame\n",
    "assert not data.isnull().values.any(), \"DataFrame contains NaN values\""
   ]
  },
  {
   "cell_type": "markdown",
   "metadata": {},
   "source": [
    "### Assignment 2"
   ]
  },
  {
   "cell_type": "code",
   "execution_count": null,
   "metadata": {},
   "outputs": [],
   "source": [
    "# Calculate the log returns for all equities\n",
    "log_returns = 100 * (np.log(data) - np.log(data.shift(1)))\n",
    "\n",
    "# Drop the first row (since log returns are computed as difference between consecutive data, first row will be NaN)\n",
    "log_returns = log_returns.iloc[1:]\n",
    "\n",
    "# Verify there are no other NaN values in the DataFrame\n",
    "assert not log_returns.isnull().values.any(), \"DataFrame contains NaN values\"\n",
    "\n",
    "# Broadcasting rF across columns in log_return to create the result dataframe\n",
    "eEquities = log_returns.sub(rF[1:], axis=0)\n",
    "\n",
    "#-----------------------------------------------------------------------------------------------------------------------------------#\n",
    "# Create svatter plots\n",
    "\n",
    "# Get number of equities\n",
    "num_equities = eEquities.shape[1]  \n",
    "\n",
    "# Calculate the number of rows needed with two plots per row (creating an extra row if there's an odd number of equities)\n",
    "num_rows  = (num_equities + 1) // 2  \n",
    "\n",
    "# Create the figure and axis grid\n",
    "fig, axes = plt.subplots(num_rows, 2, figsize=(14, 4 * num_rows))\n",
    "# Flatten the grid for easy indexing\n",
    "axes      = axes.flatten() \n",
    "\n",
    "# Loop through each equity column and create a scatter plot\n",
    "for i, column in enumerate(eEquities.columns):\n",
    "    axes[i].scatter(eEquities[column], eMKT, alpha=0.5, color='m')\n",
    "    axes[i].set_title(equity_columns[i])\n",
    "    axes[i].set_xlabel('Stock excess returns [%]')\n",
    "    axes[i].set_ylabel('Market excess returns [%]')\n",
    "\n",
    "# Hide any unused subplots if the number of equities is odd\n",
    "for j in range(i + 1, len(axes)):\n",
    "    axes[j].axis('off')\n",
    "\n",
    "# Make sure the layout is pretty\n",
    "plt.tight_layout()\n",
    "plt.show()"
   ]
  },
  {
   "cell_type": "markdown",
   "metadata": {},
   "source": [
    "### Assignment 3"
   ]
  },
  {
   "cell_type": "code",
   "execution_count": null,
   "metadata": {},
   "outputs": [
    {
     "name": "stdout",
     "output_type": "stream",
     "text": [
      "Regression summaries have been saved to regression_summaries.txt\n"
     ]
    }
   ],
   "source": [
    "# Adds an intercept (constant) term to eMKT\n",
    "eMKT_with_const   = sm.add_constant(eMKT)\n",
    "\n",
    "# Perform regressions\n",
    "regression_models = [sm.OLS(eEquities[column], eMKT_with_const).fit() for column in eEquities.columns]\n",
    "\n",
    "# Define the file name\n",
    "output_file       = \"regression_summaries.txt\"\n",
    "\n",
    "# Open the file in write mode\n",
    "with open(output_file, \"w\") as f:\n",
    "    for i, model in enumerate(regression_models):\n",
    "        # Write the equity name and the summary to the file\n",
    "        f.write(f\"Summary for {eEquities.columns[i]}:\\n\")\n",
    "        # Convert the summary to a string format\n",
    "        f.write(model.summary().as_text())\n",
    "        # Separator between summaries to improve readability\n",
    "        f.write(\"\\n\\n\" + \"<->:\"*24 + \"\\n\\n\")  \n",
    "\n",
    "print(f\"Regression summaries have been saved to {output_file}\")\n"
   ]
  }
 ],
 "metadata": {
  "kernelspec": {
   "display_name": "Python 3",
   "language": "python",
   "name": "python3"
  },
  "language_info": {
   "codemirror_mode": {
    "name": "ipython",
    "version": 3
   },
   "file_extension": ".py",
   "mimetype": "text/x-python",
   "name": "python",
   "nbconvert_exporter": "python",
   "pygments_lexer": "ipython3",
   "version": "3.12.2"
  }
 },
 "nbformat": 4,
 "nbformat_minor": 2
}
